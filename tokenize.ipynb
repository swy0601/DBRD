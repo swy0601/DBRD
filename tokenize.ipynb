{
 "nbformat": 4,
 "nbformat_minor": 0,
 "metadata": {
  "colab": {
   "provenance": [],
   "authorship_tag": "ABX9TyNmZBvXxqBDh1BcNLgsqm6C"
  },
  "kernelspec": {
   "name": "python3",
   "display_name": "Python 3"
  },
  "language_info": {
   "name": "python"
  }
 },
 "cells": [
  {
   "cell_type": "code",
   "source": [
    "!pip install transformers\n",
    "\n",
    "import pandas as pd\n",
    "import numpy as np\n",
    "import torch\n",
    "import tensorflow as tf\n",
    "from google.colab import drive \n",
    "drive.mount('/content/drive')\n",
    "import datetime\n",
    "from transformers import AutoTokenizer,AutoModel\n",
    "import re\n"
   ],
   "metadata": {
    "colab": {
     "base_uri": "https://localhost:8080/"
    },
    "id": "6Ty_c3nglyL1",
    "outputId": "e04d620e-7a46-423a-9836-0633281c9f89",
    "executionInfo": {
     "status": "ok",
     "timestamp": 1679308809153,
     "user_tz": -480,
     "elapsed": 26171,
     "user": {
      "displayName": "Chenyang Xu",
      "userId": "18263616641238114117"
     }
    }
   },
   "execution_count": null,
   "outputs": []
  },
  {
   "cell_type": "code",
   "execution_count": null,
   "metadata": {
    "colab": {
     "base_uri": "https://localhost:8080/"
    },
    "id": "XwX6LzHploES",
    "executionInfo": {
     "status": "ok",
     "timestamp": 1679310467657,
     "user_tz": -480,
     "elapsed": 1942,
     "user": {
      "displayName": "Chenyang Xu",
      "userId": "18263616641238114117"
     }
    },
    "outputId": "0a5b56d8-9821-4cfb-c787-60e94e0545cf"
   },
   "outputs": [],
   "source": [
    "from torch.utils.data import TensorDataset\n",
    "from tqdm import tqdm\n",
    "tokenizer = AutoTokenizer.from_pretrained(\"bert-base-uncased\", use_fast=True)\n",
    "model = AutoModel.from_pretrained('bert-base-uncased').eval()\n",
    "\n",
    "def tokenize(data):\n",
    "  input_ids = []\n",
    "  for sent in tqdm(data):\n",
    "    encoded_dict = tokenizer.encode_plus(\n",
    "        sent,\n",
    "        add_special_tokens=True,\n",
    "        max_length=50, #50，100，150，200\n",
    "        truncation=True,\n",
    "        padding = 'max_length',\n",
    "        return_attention_mask=False,\n",
    "        return_tensors='pt'\n",
    "        )\n",
    "    input_ids.append(encoded_dict['input_ids'])\n",
    "  input_ids = torch.cat(input_ids, dim=0)\n",
    "  return input_ids"
   ]
  },
  {
   "cell_type": "code",
   "source": [
    "openoffice = pd.read_csv('/content/drive/MyDrive/data/final_text/openoffice.csv')\n",
    "eclipse = pd.read_csv('/content/drive/MyDrive/data/final_text/eclipse.csv')\n",
    "netbeans =pd.read_csv('/content/drive/MyDrive/data/final_text/netbeans.csv')\n",
    "openoffice = openoffice.dropna()\n",
    "eclipse = eclipse.dropna()\n",
    "netbeans = netbeans.dropna()\n",
    "open_bug1 = list(openoffice['bug1'])\n",
    "open_bug2 = list(openoffice['bug2'])\n",
    "eclipse_bug1 = list(eclipse['bug1'])\n",
    "eclipse_bug2 = list(eclipse['bug2'])\n",
    "netbeans_bug1 =list(netbeans['bug1'])\n",
    "netbeans_bug2 = list(netbeans['bug2'])"
   ],
   "metadata": {
    "id": "PL8J19A_mwGz",
    "executionInfo": {
     "status": "ok",
     "timestamp": 1679310514340,
     "user_tz": -480,
     "elapsed": 13675,
     "user": {
      "displayName": "Chenyang Xu",
      "userId": "18263616641238114117"
     }
    }
   },
   "execution_count": null,
   "outputs": []
  },
  {
   "cell_type": "code",
   "source": [
    "open_token1 = tokenize(open_bug1)\n",
    "open_token2 = tokenize(open_bug2)\n",
    "del open_bug2,open_bug1\n",
    "eclipse_token1 = tokenize(eclipse_bug1)\n",
    "eclipse_token2 = tokenize(eclipse_bug2)\n",
    "del eclipse_bug1,eclipse_bug2\n",
    "netbeans_token1 = tokenize(netbeans_bug1)\n",
    "netbeans_token2 = tokenize(netbeans_bug2)\n",
    "del netbeans_bug1,netbeans_bug2"
   ],
   "metadata": {
    "colab": {
     "base_uri": "https://localhost:8080/"
    },
    "id": "5Z1EtA5IOJZs",
    "executionInfo": {
     "status": "ok",
     "timestamp": 1679311793743,
     "user_tz": -480,
     "elapsed": 1276234,
     "user": {
      "displayName": "Chenyang Xu",
      "userId": "18263616641238114117"
     }
    },
    "outputId": "b411fce0-dc43-422e-89ec-255fb4e66f88"
   },
   "execution_count": null,
   "outputs": []
  },
  {
   "cell_type": "code",
   "source": [
    "torch.save(open_token1,'/content/drive/MyDrive/data/token50/open_token1.pt')\n",
    "torch.save(open_token2,'/content/drive/MyDrive/data/token50/open_token2.pt')\n",
    "torch.save(eclipse_token1,'/content/drive/MyDrive/data/token50/eclipse_token1.pt')\n",
    "torch.save(eclipse_token2,'/content/drive/MyDrive/data/token50/eclipse_token2.pt')\n",
    "torch.save(netbeans_token1,'/content/drive/MyDrive/data/token50/netbeans_tokken1.pt')\n",
    "torch.save(netbeans_token2,'/content/drive/MyDrive/data/token50/netbeans_tokken2.pt')\n",
    "torch.save(open_token1,'/content/drive/MyDrive/data/token50/open_token1.pt')\n",
    "torch.save(open_token2,'/content/drive/MyDrive/data/token50/open_token2.pt')"
   ],
   "metadata": {
    "id": "zBj09aAZ3Yjw",
    "executionInfo": {
     "status": "ok",
     "timestamp": 1679311816143,
     "user_tz": -480,
     "elapsed": 2908,
     "user": {
      "displayName": "Chenyang Xu",
      "userId": "18263616641238114117"
     }
    }
   },
   "execution_count": null,
   "outputs": []
  },
  {
   "cell_type": "code",
   "source": [
    "# a = pd.read_csv('/content/drive/MyDrive/data/Copy of openoffice_deal_new.csv')\n",
    "# b = pd.read_csv('/content/drive/MyDrive/data/Copy of eclipse_deal_new.csv')\n",
    "# c = pd.read_csv('/content/drive/MyDrive/data/Copy of netbeans_deal_new.csv')"
   ],
   "metadata": {
    "id": "0BkdD2tc4S03"
   },
   "execution_count": null,
   "outputs": []
  },
  {
   "cell_type": "code",
   "source": [
    "# op_l = a['label']\n",
    "# ec_l = b['label']\n",
    "# nb_l = c['label']\n",
    "# op_sv = abs(a['bug_1_severity']-a['bug_2_severity'])\n",
    "# ec_sv = abs(b['bug_1_severity']-b['bug_2_severity'])\n",
    "# nb_sv = abs(c['bug_1_severity']-c['bug_2_severity'])\n",
    "# op_pr = abs(a['bug_1_priority'] - a['bug_2_priority'])\n",
    "# ec_pr = abs(b['bug_1_priority'] - b['bug_2_priority'])\n",
    "# nb_pr = abs(c['bug_1_priority'] - c['bug_2_priority'])"
   ],
   "metadata": {
    "id": "G9pXpWMF5Xj4"
   },
   "execution_count": null,
   "outputs": []
  },
  {
   "cell_type": "code",
   "source": [
    "# def months(str1,str2):\n",
    "#     year1=datetime.datetime.strptime(str1[0:10],\"%Y-%m-%d\").year\n",
    "#     year2=datetime.datetime.strptime(str2[0:10],\"%Y-%m-%d\").year\n",
    "#     month1=datetime.datetime.strptime(str1[0:10],\"%Y-%m-%d\").month\n",
    "#     month2=datetime.datetime.strptime(str2[0:10],\"%Y-%m-%d\").month\n",
    "#     num=(year1-year2)*12+(month1-month2)\n",
    "#     return abs(num)"
   ],
   "metadata": {
    "id": "6ED-6roE-XII"
   },
   "execution_count": null,
   "outputs": []
  },
  {
   "cell_type": "code",
   "source": [
    "# op_ct = []\n",
    "# ec_ct = []\n",
    "# nb_ct = []\n",
    "# for index, row in a.iterrows():\n",
    "#     op_ct.append(months(row['bug_1_creationtime'], row['bug_2_creationtime']))\n",
    "# for index, row in b.iterrows():\n",
    "#     ec_ct.append(months(row['bug_1_creationtime'], row['bug_2_creationtime']))\n",
    "# for index, row in c.iterrows():\n",
    "#     nb_ct.append(months(row['bug_1_creationtime'], row['bug_2_creationtime']))"
   ],
   "metadata": {
    "id": "yfpErold-YiV"
   },
   "execution_count": null,
   "outputs": []
  },
  {
   "cell_type": "code",
   "source": [
    "# open_bug1 = list(openoffice['bug1'])\n",
    "# open_bug2 = list(openoffice['bug2'])\n",
    "# eclipse_bug1 = list(eclipse['bug1'])\n",
    "# eclipse_bug2 = list(eclipse['bug2'])\n",
    "# netbeans_bug1 =list(netbeans['bug1'])\n",
    "# netbeans_bug2 = list(netbeans['bug2'])\n",
    "# open_token1 = tokenize(open_bug1)\n",
    "# open_token2 = tokenize(open_bug2)\n",
    "# del open_bug2,open_bug1\n",
    "# eclipse_token1 = tokenize(eclipse_bug1)\n",
    "# eclipse_token2 = tokenize(eclipse_bug2)\n",
    "# del eclipse_bug1,eclipse_bug2\n",
    "# netbeans_token1 = tokenize(netbeans_bug1)\n",
    "# netbeans_token2 = tokenize(netbeans_bug2)\n",
    "# del netbeans_bug1,netbeans_bug2"
   ],
   "metadata": {
    "id": "CqmYXfEZaWrP",
    "colab": {
     "base_uri": "https://localhost:8080/",
     "height": 447
    },
    "executionInfo": {
     "status": "error",
     "timestamp": 1679292901372,
     "user_tz": -480,
     "elapsed": 5564,
     "user": {
      "displayName": "Chenyang Xu",
      "userId": "18263616641238114117"
     }
    },
    "outputId": "51a52ec0-213a-4b08-b74e-267161e12f64"
   },
   "execution_count": null,
   "outputs": []
  },
  {
   "cell_type": "code",
   "source": [
    "\n",
    "#o1 avg 87.03516314934245 /99081 \n",
    "#o2 avg 86.95959871216479 /99081 \n",
    "#ec1 avg 146.74268797722272/185091 \n",
    "#ec2 avg 146.35977740390837/185091 \n",
    "#net1 avg 166.63282385421226/247264\n",
    "#net2 avg 166.84537875963716/247264"
   ],
   "metadata": {
    "colab": {
     "base_uri": "https://localhost:8080/"
    },
    "id": "2WeGLynhcpKN",
    "executionInfo": {
     "status": "ok",
     "timestamp": 1679292254015,
     "user_tz": -480,
     "elapsed": 775,
     "user": {
      "displayName": "Chenyang Xu",
      "userId": "18263616641238114117"
     }
    },
    "outputId": "4b03fb79-1d0a-432a-e77e-a4fd1ee05c72"
   },
   "execution_count": null,
   "outputs": []
  },
  {
   "cell_type": "code",
   "source": [
    "# ((87+86)*99081+(146+146)*185091+(166+166)*247264)/(2*(99081+185091+247264))"
   ],
   "metadata": {
    "colab": {
     "base_uri": "https://localhost:8080/"
    },
    "id": "Lavx6n5Xs9-e",
    "executionInfo": {
     "status": "ok",
     "timestamp": 1679296110305,
     "user_tz": -480,
     "elapsed": 6,
     "user": {
      "displayName": "Chenyang Xu",
      "userId": "18263616641238114117"
     }
    },
    "outputId": "253318ea-88e0-4689-e4d4-8280ce453b39"
   },
   "execution_count": null,
   "outputs": []
  },
  {
   "cell_type": "code",
   "source": [
    "# openoffice.insert(2, 'label', op_l)\n",
    "# eclipse.insert(2, 'label', ec_l)\n",
    "# netbeans.insert(2, 'label', nb_l)\n",
    "# openoffice.insert(3, 'severity', op_sv)\n",
    "# eclipse.insert(3, 'severity', ec_sv)\n",
    "# netbeans.insert(3, 'severity', nb_sv)\n",
    "# openoffice.insert(4, 'priority', op_pr)\n",
    "# eclipse.insert(4, 'priority', ec_pr)\n",
    "# netbeans.insert(4, 'priority', nb_pr)\n",
    "# openoffice.insert(5, 'time', op_ct)\n",
    "# eclipse.insert(5, 'time', ec_ct)\n",
    "# netbeans.insert(5, 'time', nb_ct)\n"
   ],
   "metadata": {
    "id": "1QU-02Va5tgJ"
   },
   "execution_count": null,
   "outputs": []
  },
  {
   "cell_type": "code",
   "source": [
    "# openoffice['label']\n",
    "# openoffice['priority']\n",
    "# openoffice['severity']\n",
    "# import pickle\n",
    "# open_file = open(\"/content/drive/MyDrive/data/ct/op_ct.pkl\", \"wb\")\n",
    "# pickle.dump(list(openoffice['time']), open_file)\n",
    "# open_file.close()\n",
    "# open_file = open(\"/content/drive/MyDrive/data/label/op_l.pkl\", \"wb\")\n",
    "# pickle.dump(list(openoffice['label']), open_file)\n",
    "# open_file.close()\n",
    "# open_file = open(\"/content/drive/MyDrive/data/pr/op_pr.pkl\", \"wb\")\n",
    "# pickle.dump(list(openoffice['priority']), open_file)\n",
    "# open_file.close()\n",
    "# open_file = open(\"/content/drive/MyDrive/data/sv/op_sv.pkl\", \"wb\")\n",
    "# pickle.dump(list(openoffice['severity']), open_file)\n",
    "# open_file.close()"
   ],
   "metadata": {
    "id": "APMeFu4k7NZ5"
   },
   "execution_count": null,
   "outputs": []
  },
  {
   "cell_type": "code",
   "source": [
    "# ec_file = open(\"/content/drive/MyDrive/data/ct/ec_ct.pkl\", \"wb\")\n",
    "# pickle.dump(list(eclipse['time']), ec_file)\n",
    "# ec_file.close()\n",
    "# ec_file = open(\"/content/drive/MyDrive/data/label/ec_l.pkl\", \"wb\")\n",
    "# pickle.dump(list(eclipse['label']), ec_file)\n",
    "# ec_file.close()\n",
    "# ec_file = open(\"/content/drive/MyDrive/data/pr/ec_pr.pkl\", \"wb\")\n",
    "# pickle.dump(list(eclipse['priority']), ec_file)\n",
    "# ec_file.close()\n",
    "# ec_file = open(\"/content/drive/MyDrive/data/sv/ec_sv.pkl\", \"wb\")\n",
    "# pickle.dump(list(eclipse['severity']), ec_file)\n",
    "# ec_file.close()"
   ],
   "metadata": {
    "id": "9f0Kl5I7IucM"
   },
   "execution_count": null,
   "outputs": []
  },
  {
   "cell_type": "code",
   "source": [
    "# nb_file = open(\"/content/drive/MyDrive/data/ct/nb_ct.pkl\", \"wb\")\n",
    "# pickle.dump(list(netbeans['time']), nb_file)\n",
    "# nb_file.close()\n",
    "# nb_file = open(\"/content/drive/MyDrive/data/label/nb_l.pkl\", \"wb\")\n",
    "# pickle.dump(list(netbeans['label']), nb_file)\n",
    "# nb_file.close()\n",
    "# nb_file = open(\"/content/drive/MyDrive/data/pr/nb_pr.pkl\", \"wb\")\n",
    "# pickle.dump(list(netbeans['priority']), nb_file)\n",
    "# nb_file.close()\n",
    "# nb_file = open(\"/content/drive/MyDrive/data/sv/nb_sv.pkl\", \"wb\")\n",
    "# pickle.dump(list(netbeans['severity']), nb_file)\n",
    "# nb_file.close()"
   ],
   "metadata": {
    "id": "MRgA-fOhLILS"
   },
   "execution_count": null,
   "outputs": []
  },
  {
   "cell_type": "code",
   "source": [],
   "metadata": {
    "id": "Mm6-ZYu5MjLD"
   },
   "execution_count": null,
   "outputs": []
  }
 ]
}
