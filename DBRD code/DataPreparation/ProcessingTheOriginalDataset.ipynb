{
 "cells": [
  {
   "cell_type": "code",
   "execution_count": 47,
   "metadata": {},
   "outputs": [
    {
     "name": "stdout",
     "output_type": "stream",
     "text": [
      "              id                                            message\n",
      "0           ['1'   ' creation_ts 2001-10-10 21:37:00 -0400 bug_i...\n",
      "1          ['10'   ' creation_ts 2005-12-15 10:54:00 -0500 bug_i...\n",
      "2       ['10001'   ' creation_ts 2002-09-27 10:07:00 -0400 bug_i...\n",
      "3      ['100013'   ' creation_ts 2005-06-14 14:26:00 -0400 bug_i...\n",
      "4      ['100032'   ' creation_ts 2006-02-02 06:28:00 -0500 bug_i...\n",
      "...          ...                                                ...\n",
      "39518   ['99984'   ' creation_ts 2005-09-29 18:00:00 -0400 bug_i...\n",
      "39519   ['99984'   ' creation_ts 2006-04-03 11:35:00 -0400 bug_i...\n",
      "39520   ['99984'   ' creation_ts 2006-04-07 10:08:00 -0400 bug_i...\n",
      "39521   ['99984'   ' creation_ts 2006-04-21 00:00:00 -0400 bug_i...\n",
      "39522   ['99996'   ' creation_ts 2005-06-10 11:49:00 -0400 bug_i...\n",
      "\n",
      "[39523 rows x 2 columns]\n"
     ]
    }
   ],
   "source": [
    "import numpy as np\n",
    "import pandas as pd\n",
    "import matplotlib.pyplot as plt\n",
    "df = pd.read_csv(\"list.txt\",sep = \",\",names = ['id','message'])\n",
    "print(df)"
   ]
  },
  {
   "cell_type": "code",
   "execution_count": 55,
   "metadata": {},
   "outputs": [
    {
     "name": "stderr",
     "output_type": "stream",
     "text": [
      "100%|██████████████████████████████████████████████████████████████████████| 361006/361006 [00:02<00:00, 178183.49it/s]\n"
     ]
    }
   ],
   "source": [
    "import random\n",
    "import os\n",
    "import argparse\n",
    "from pathlib import Path\n",
    "from tqdm import tqdm\n",
    "import re\n",
    "import codecs\n",
    "import json\n",
    "from operator import itemgetter\n",
    "with codecs.open('eclipse_clear.json', 'r', encoding='utf-8') as f:\n",
    "     lines = f.readlines()\n",
    "#master = list()\n",
    "a = list()\n",
    "for line in tqdm(lines):\n",
    "  item = ujson.loads(line)\n",
    "  if len(item['dup_id']) != 0:\n",
    "   # dup_id = 'master_id ' + item['dup_id']\n",
    "   # master.append( int(item['dup_id'])) \n",
    "    bug_id = ' bug_id ' + item['bug_id']\n",
    "    a.append([item['dup_id'],' creation_ts ' + item[\"creation_ts\"] + bug_id,item['description']])\n",
    "   # creation_ts = 'creation_ts' + item[\"creation_ts\"]\n",
    "       "
   ]
  },
  {
   "cell_type": "code",
   "execution_count": 76,
   "metadata": {},
   "outputs": [
    {
     "name": "stdout",
     "output_type": "stream",
     "text": [
      "           id                                            message  \\\n",
      "0           1   creation_ts 2001-10-10 21:37:00 -0400 bug_id 183   \n",
      "1          10   creation_ts 2005-12-15 10:54:00 -0500 bug_id ...   \n",
      "2       10001   creation_ts 2002-09-27 10:07:00 -0400 bug_id ...   \n",
      "3      100013   creation_ts 2005-06-14 14:26:00 -0400 bug_id ...   \n",
      "4      100032   creation_ts 2006-02-02 06:28:00 -0500 bug_id ...   \n",
      "...       ...                                                ...   \n",
      "39518   99984   creation_ts 2005-09-29 18:00:00 -0400 bug_id ...   \n",
      "39519   99984   creation_ts 2006-04-03 11:35:00 -0400 bug_id ...   \n",
      "39520   99984   creation_ts 2006-04-07 10:08:00 -0400 bug_id ...   \n",
      "39521   99984   creation_ts 2006-04-21 00:00:00 -0400 bug_id ...   \n",
      "39522   99996   creation_ts 2005-06-10 11:49:00 -0400 bug_id ...   \n",
      "\n",
      "                                             description  \n",
      "0      We need to tell people that they  must refresh...  \n",
      "1      *---\\nIn other words, it is permissible to omi...  \n",
      "2      I implemented a LabelProvider which dynamicall...  \n",
      "3      It appears that the dialog values will default...  \n",
      "4      Files with the extension .class cannot be save...  \n",
      "...                                                  ...  \n",
      "39518  If I make the first item in a toolbar a pull-d...  \n",
      "39519  20060403 (but there probbaly since M5)\\n\\nAll ...  \n",
      "39520  Running  N20060407-0010\\n\\nFor some reason, th...  \n",
      "39521  in N0418\\n\\nI don't know what hte right name f...  \n",
      "39522  Not sure where this bug belongs, but on review...  \n",
      "\n",
      "[39523 rows x 3 columns]\n"
     ]
    }
   ],
   "source": [
    "import numpy as np\n",
    "import pandas as pd\n",
    "import matplotlib.pyplot as plt\n",
    "from pandas.core.frame import DataFrame\n",
    "a = sorted(a)\n",
    "data = DataFrame(a)\n",
    "data.columns = ['id','message','description']\n",
    "print(data)\n",
    "#在之前list基础上添加了description\n",
    "\n",
    "\n"
   ]
  },
  {
   "cell_type": "code",
   "execution_count": 85,
   "metadata": {},
   "outputs": [
    {
     "name": "stderr",
     "output_type": "stream",
     "text": [
      "100%|██████████████████████████████████████████████████████████████████████| 361006/361006 [00:02<00:00, 142508.28it/s]\n"
     ]
    },
    {
     "name": "stdout",
     "output_type": "stream",
     "text": [
      "<class 'pandas.core.frame.DataFrame'>\n",
      "             0                                       1\n",
      "0            1   creation_ts 2001-10-10 21:34:00 -0400\n",
      "1           10   creation_ts 2001-10-10 21:34:00 -0400\n",
      "2          100   creation_ts 2001-10-10 21:36:00 -0400\n",
      "3        10000   creation_ts 2002-02-19 11:07:00 -0500\n",
      "4       100000   creation_ts 2005-06-14 12:11:00 -0400\n",
      "...        ...                                     ...\n",
      "361001   99995   creation_ts 2005-06-14 12:04:00 -0400\n",
      "361002   99996   creation_ts 2005-06-14 12:07:00 -0400\n",
      "361003   99997   creation_ts 2005-06-14 12:08:00 -0400\n",
      "361004   99998   creation_ts 2005-06-14 12:09:00 -0400\n",
      "361005   99999   creation_ts 2005-06-14 12:09:00 -0400\n",
      "\n",
      "[361006 rows x 2 columns]\n"
     ]
    }
   ],
   "source": [
    "a = list()\n",
    "for line in tqdm(lines):\n",
    "    item = ujson.loads(line)\n",
    "  #if len(item['dup_id']) != 0:\n",
    "   # dup_id = 'master_id ' + item['dup_id']\n",
    "   # master.append( int(item['dup_id'])) \n",
    "    #bug_id = ' bug_id ' + item['bug_id']\n",
    "    a.append([item['bug_id'],' creation_ts ' + item[\"creation_ts\"]])\n",
    "   # creation_ts = 'creation_ts' + item[\"creation_ts\"]\n",
    "a = sorted(a)\n",
    "data1 = DataFrame(a)\n",
    "print(type(data1))\n",
    "print(data1)"
   ]
  },
  {
   "cell_type": "code",
   "execution_count": 86,
   "metadata": {},
   "outputs": [
    {
     "name": "stdout",
     "output_type": "stream",
     "text": [
      "<class 'pandas.core.frame.DataFrame'>\n",
      "            id                                 message\n",
      "0            1   creation_ts 2001-10-10 21:34:00 -0400\n",
      "1           10   creation_ts 2001-10-10 21:34:00 -0400\n",
      "2          100   creation_ts 2001-10-10 21:36:00 -0400\n",
      "3        10000   creation_ts 2002-02-19 11:07:00 -0500\n",
      "4       100000   creation_ts 2005-06-14 12:11:00 -0400\n",
      "...        ...                                     ...\n",
      "361001   99995   creation_ts 2005-06-14 12:04:00 -0400\n",
      "361002   99996   creation_ts 2005-06-14 12:07:00 -0400\n",
      "361003   99997   creation_ts 2005-06-14 12:08:00 -0400\n",
      "361004   99998   creation_ts 2005-06-14 12:09:00 -0400\n",
      "361005   99999   creation_ts 2005-06-14 12:09:00 -0400\n",
      "\n",
      "[361006 rows x 2 columns]\n"
     ]
    }
   ],
   "source": [
    "data1.columns = ['id','message']\n",
    "print(type(data1))\n",
    "print(data1)\n",
    "#用于匹配master_id"
   ]
  },
  {
   "cell_type": "code",
   "execution_count": 77,
   "metadata": {},
   "outputs": [
    {
     "name": "stdout",
     "output_type": "stream",
     "text": [
      "           id                                            message  \\\n",
      "0           1   creation_ts 2001-10-10 21:37:00 -0400 bug_id 183   \n",
      "1          10   creation_ts 2005-12-15 10:54:00 -0500 bug_id ...   \n",
      "2       10001   creation_ts 2002-09-27 10:07:00 -0400 bug_id ...   \n",
      "3      100013   creation_ts 2005-06-14 14:26:00 -0400 bug_id ...   \n",
      "4      100032   creation_ts 2006-02-02 06:28:00 -0500 bug_id ...   \n",
      "...       ...                                                ...   \n",
      "39518   99984   creation_ts 2005-09-29 18:00:00 -0400 bug_id ...   \n",
      "39519   99984   creation_ts 2006-04-03 11:35:00 -0400 bug_id ...   \n",
      "39520   99984   creation_ts 2006-04-07 10:08:00 -0400 bug_id ...   \n",
      "39521   99984   creation_ts 2006-04-21 00:00:00 -0400 bug_id ...   \n",
      "39522   99996   creation_ts 2005-06-10 11:49:00 -0400 bug_id ...   \n",
      "\n",
      "                                             description        date  \n",
      "0      We need to tell people that they  must refresh...  2001-10-10  \n",
      "1      *---\\nIn other words, it is permissible to omi...  2005-12-15  \n",
      "2      I implemented a LabelProvider which dynamicall...  2002-09-27  \n",
      "3      It appears that the dialog values will default...  2005-06-14  \n",
      "4      Files with the extension .class cannot be save...  2006-02-02  \n",
      "...                                                  ...         ...  \n",
      "39518  If I make the first item in a toolbar a pull-d...  2005-09-29  \n",
      "39519  20060403 (but there probbaly since M5)\\n\\nAll ...  2006-04-03  \n",
      "39520  Running  N20060407-0010\\n\\nFor some reason, th...  2006-04-07  \n",
      "39521  in N0418\\n\\nI don't know what hte right name f...  2006-04-21  \n",
      "39522  Not sure where this bug belongs, but on review...  2005-06-10  \n",
      "\n",
      "[39523 rows x 4 columns]\n"
     ]
    }
   ],
   "source": [
    "date = []\n",
    "data2 = data['message']\n",
    "#data = data.iloc[:,1:2].values\n",
    "#data = data[:,1:2]\n",
    "for i in data2:\n",
    "    date.append(i[13:23])\n",
    "date = pd.DataFrame({'date':date})\n",
    "data = pd.concat([data,date],axis = 1)\n",
    "print(data)"
   ]
  },
  {
   "cell_type": "code",
   "execution_count": 87,
   "metadata": {},
   "outputs": [
    {
     "name": "stdout",
     "output_type": "stream",
     "text": [
      "            id                                 message master_date\n",
      "0            1   creation_ts 2001-10-10 21:34:00 -0400  2001-10-10\n",
      "1           10   creation_ts 2001-10-10 21:34:00 -0400  2001-10-10\n",
      "2          100   creation_ts 2001-10-10 21:36:00 -0400  2001-10-10\n",
      "3        10000   creation_ts 2002-02-19 11:07:00 -0500  2002-02-19\n",
      "4       100000   creation_ts 2005-06-14 12:11:00 -0400  2005-06-14\n",
      "...        ...                                     ...         ...\n",
      "361001   99995   creation_ts 2005-06-14 12:04:00 -0400  2005-06-14\n",
      "361002   99996   creation_ts 2005-06-14 12:07:00 -0400  2005-06-14\n",
      "361003   99997   creation_ts 2005-06-14 12:08:00 -0400  2005-06-14\n",
      "361004   99998   creation_ts 2005-06-14 12:09:00 -0400  2005-06-14\n",
      "361005   99999   creation_ts 2005-06-14 12:09:00 -0400  2005-06-14\n",
      "\n",
      "[361006 rows x 3 columns]\n"
     ]
    }
   ],
   "source": [
    "master_date = []\n",
    "data2 = data1['message']\n",
    "#data = data.iloc[:,1:2].values\n",
    "#data = data[:,1:2]\n",
    "for i in data2:\n",
    "    master_date.append(i[13:23])\n",
    "master_date = pd.DataFrame({'master_date':master_date})\n",
    "data1 = pd.concat([data1,master_date],axis = 1)\n",
    "print(data1)"
   ]
  },
  {
   "cell_type": "code",
   "execution_count": 60,
   "metadata": {},
   "outputs": [
    {
     "data": {
      "text/plain": [
       "pandas.core.frame.DataFrame"
      ]
     },
     "execution_count": 60,
     "metadata": {},
     "output_type": "execute_result"
    }
   ],
   "source": [
    "type(data)"
   ]
  },
  {
   "cell_type": "code",
   "execution_count": 78,
   "metadata": {},
   "outputs": [],
   "source": [
    "# date = []\n",
    "# data2 = data.iloc[:,'message'].values\n",
    "# #data = data.iloc[:,1:2].values\n",
    "# #data = data[:,1:2]\n",
    "# for i in range(data2.shape[0]):\n",
    "#     date.append(data2[i][15:25])\n",
    "# date = pd.DataFrame({'date':date})\n",
    "# data2 = pd.concat([data,date],axis = 1)\n",
    "# print(data)  #之前跑出来的代码突然报错真离谱，乐"
   ]
  },
  {
   "cell_type": "code",
   "execution_count": 83,
   "metadata": {},
   "outputs": [
    {
     "name": "stdout",
     "output_type": "stream",
     "text": [
      "           id                                           dup_date\n",
      "0           1                                        ,2001-10-10\n",
      "1          10                                        ,2005-12-15\n",
      "2       10001                                        ,2002-09-27\n",
      "3      100013                                        ,2005-06-14\n",
      "4      100032                                        ,2006-02-02\n",
      "...       ...                                                ...\n",
      "26119   99948                                        ,2006-01-03\n",
      "26120   99978                                        ,2005-06-16\n",
      "26121   99982                                        ,2005-07-11\n",
      "26122   99984  ,2004-02-23,,2005-09-29,,2006-04-03,,2006-04-0...\n",
      "26123   99996                                        ,2005-06-10\n",
      "\n",
      "[26124 rows x 2 columns]\n"
     ]
    }
   ],
   "source": [
    "data_deal = data.groupby('id').apply(lambda x:[','.join(x['date'])]).apply(lambda x:x[0]).reset_index(name='dup_date')\n",
    "print(data_deal)"
   ]
  },
  {
   "cell_type": "code",
   "execution_count": 81,
   "metadata": {},
   "outputs": [
    {
     "name": "stdout",
     "output_type": "stream",
     "text": [
      "           id                                            message  \\\n",
      "0           1   creation_ts 2001-10-10 21:37:00 -0400 bug_id 183   \n",
      "1          10   creation_ts 2005-12-15 10:54:00 -0500 bug_id ...   \n",
      "2       10001   creation_ts 2002-09-27 10:07:00 -0400 bug_id ...   \n",
      "3      100013   creation_ts 2005-06-14 14:26:00 -0400 bug_id ...   \n",
      "4      100032   creation_ts 2006-02-02 06:28:00 -0500 bug_id ...   \n",
      "...       ...                                                ...   \n",
      "39518   99984   creation_ts 2005-09-29 18:00:00 -0400 bug_id ...   \n",
      "39519   99984   creation_ts 2006-04-03 11:35:00 -0400 bug_id ...   \n",
      "39520   99984   creation_ts 2006-04-07 10:08:00 -0400 bug_id ...   \n",
      "39521   99984   creation_ts 2006-04-21 00:00:00 -0400 bug_id ...   \n",
      "39522   99996   creation_ts 2005-06-10 11:49:00 -0400 bug_id ...   \n",
      "\n",
      "                                             description         date  \n",
      "0      We need to tell people that they  must refresh...  ,2001-10-10  \n",
      "1      *---\\nIn other words, it is permissible to omi...  ,2005-12-15  \n",
      "2      I implemented a LabelProvider which dynamicall...  ,2002-09-27  \n",
      "3      It appears that the dialog values will default...  ,2005-06-14  \n",
      "4      Files with the extension .class cannot be save...  ,2006-02-02  \n",
      "...                                                  ...          ...  \n",
      "39518  If I make the first item in a toolbar a pull-d...  ,2005-09-29  \n",
      "39519  20060403 (but there probbaly since M5)\\n\\nAll ...  ,2006-04-03  \n",
      "39520  Running  N20060407-0010\\n\\nFor some reason, th...  ,2006-04-07  \n",
      "39521  in N0418\\n\\nI don't know what hte right name f...  ,2006-04-21  \n",
      "39522  Not sure where this bug belongs, but on review...  ,2005-06-10  \n",
      "\n",
      "[39523 rows x 4 columns]\n"
     ]
    }
   ],
   "source": [
    "print(data)"
   ]
  },
  {
   "cell_type": "code",
   "execution_count": 88,
   "metadata": {},
   "outputs": [
    {
     "name": "stdout",
     "output_type": "stream",
     "text": [
      ",2005-12-15\n"
     ]
    }
   ],
   "source": [
    "print(data['date'][1])"
   ]
  },
  {
   "cell_type": "code",
   "execution_count": 80,
   "metadata": {},
   "outputs": [
    {
     "name": "stdout",
     "output_type": "stream",
     "text": [
      "                                                  message  \\\n",
      "id                                                          \n",
      "1        creation_ts 2001-10-10 21:37:00 -0400 bug_id 183   \n",
      "10       creation_ts 2005-12-15 10:54:00 -0500 bug_id ...   \n",
      "10001    creation_ts 2002-09-27 10:07:00 -0400 bug_id ...   \n",
      "100013   creation_ts 2005-06-14 14:26:00 -0400 bug_id ...   \n",
      "100032   creation_ts 2006-02-02 06:28:00 -0500 bug_id ...   \n",
      "...                                                   ...   \n",
      "99948    creation_ts 2006-01-03 07:02:00 -0500 bug_id ...   \n",
      "99978    creation_ts 2005-06-16 19:52:00 -0400 bug_id ...   \n",
      "99982    creation_ts 2005-07-11 09:51:00 -0400 bug_id ...   \n",
      "99984    creation_ts 2004-02-23 16:42:00 -0500 bug_id ...   \n",
      "99996    creation_ts 2005-06-10 11:49:00 -0400 bug_id ...   \n",
      "\n",
      "                                                     date  \n",
      "id                                                         \n",
      "1                                            [2001-10-10]  \n",
      "10                                           [2005-12-15]  \n",
      "10001                                        [2002-09-27]  \n",
      "100013                                       [2005-06-14]  \n",
      "100032                                       [2006-02-02]  \n",
      "...                                                   ...  \n",
      "99948                                        [2006-01-03]  \n",
      "99978                                        [2005-06-16]  \n",
      "99982                                        [2005-07-11]  \n",
      "99984   [2004-02-23,2005-09-29,2006-04-03,2006-04-07,2...  \n",
      "99996                                        [2005-06-10]  \n",
      "\n",
      "[26124 rows x 2 columns]\n"
     ]
    },
    {
     "name": "stderr",
     "output_type": "stream",
     "text": [
      "D:\\Anaconda\\envs\\python3_7\\lib\\site-packages\\ipykernel_launcher.py:2: FutureWarning: Dropping invalid columns in DataFrameGroupBy.add is deprecated. In a future version, a TypeError will be raised. Before calling .add, select only columns which should be valid for the function.\n",
      "  \n",
      "D:\\Anaconda\\envs\\python3_7\\lib\\site-packages\\ipykernel_launcher.py:3: FutureWarning: Dropping invalid columns in DataFrameGroupBy.add is deprecated. In a future version, a TypeError will be raised. Before calling .add, select only columns which should be valid for the function.\n",
      "  This is separate from the ipykernel package so we can avoid doing imports until\n"
     ]
    }
   ],
   "source": [
    "data['date'] = data['date'].apply(lambda x:','+ x)\n",
    "data1 = data.groupby(by='id').sum()\n",
    "data1 = data.groupby(by='id').sum()\n",
    "data1['date'] = data1['date'].apply(lambda x :[x[1:]])\n",
    "print(data1)\n"
   ]
  },
  {
   "cell_type": "code",
   "execution_count": 37,
   "metadata": {},
   "outputs": [
    {
     "name": "stdout",
     "output_type": "stream",
     "text": [
      "                                                     message  \\\n",
      "id                                                             \n",
      "['1'        ' creation_ts 2001-10-10 21:37:00 -0400 bug_i...   \n",
      "['10'       ' creation_ts 2005-12-15 10:54:00 -0500 bug_i...   \n",
      "['10001'    ' creation_ts 2002-09-27 10:07:00 -0400 bug_i...   \n",
      "['100013'   ' creation_ts 2005-06-14 14:26:00 -0400 bug_i...   \n",
      "['100032'   ' creation_ts 2006-02-02 06:28:00 -0500 bug_i...   \n",
      "...                                                      ...   \n",
      "['99948'    ' creation_ts 2006-01-03 07:02:00 -0500 bug_i...   \n",
      "['99978'    ' creation_ts 2005-06-16 19:52:00 -0400 bug_i...   \n",
      "['99982'    ' creation_ts 2005-07-11 09:51:00 -0400 bug_i...   \n",
      "['99984'    ' creation_ts 2004-02-23 16:42:00 -0500 bug_i...   \n",
      "['99996'    ' creation_ts 2005-06-10 11:49:00 -0400 bug_i...   \n",
      "\n",
      "                                                        date  \n",
      "id                                                            \n",
      "['1'                                            [2001-10-10]  \n",
      "['10'                                           [2005-12-15]  \n",
      "['10001'                                        [2002-09-27]  \n",
      "['100013'                                       [2005-06-14]  \n",
      "['100032'                                       [2006-02-02]  \n",
      "...                                                      ...  \n",
      "['99948'                                        [2006-01-03]  \n",
      "['99978'                                        [2005-06-16]  \n",
      "['99982'                                        [2005-07-11]  \n",
      "['99984'   [2004-02-23,2005-09-29,2006-04-03,2006-04-07,2...  \n",
      "['99996'                                        [2005-06-10]  \n",
      "\n",
      "[26124 rows x 2 columns]\n"
     ]
    }
   ],
   "source": [
    "data['date'] = data['date'].apply(lambda x:','+ x)\n",
    "data1 = data.groupby(by='id').sum()\n",
    "data1 = data.groupby(by='id').sum()\n",
    "data1['date'] = data1['date'].apply(lambda x :[x[1:]])\n",
    "print(data1)\n"
   ]
  },
  {
   "cell_type": "code",
   "execution_count": 95,
   "metadata": {},
   "outputs": [
    {
     "data": {
      "text/html": [
       "<div>\n",
       "<style scoped>\n",
       "    .dataframe tbody tr th:only-of-type {\n",
       "        vertical-align: middle;\n",
       "    }\n",
       "\n",
       "    .dataframe tbody tr th {\n",
       "        vertical-align: top;\n",
       "    }\n",
       "\n",
       "    .dataframe thead th {\n",
       "        text-align: right;\n",
       "    }\n",
       "</style>\n",
       "<table border=\"1\" class=\"dataframe\">\n",
       "  <thead>\n",
       "    <tr style=\"text-align: right;\">\n",
       "      <th></th>\n",
       "      <th>id</th>\n",
       "      <th>dup_date</th>\n",
       "      <th>message</th>\n",
       "      <th>master_date</th>\n",
       "    </tr>\n",
       "  </thead>\n",
       "  <tbody>\n",
       "    <tr>\n",
       "      <th>0</th>\n",
       "      <td>1</td>\n",
       "      <td>,2001-10-10</td>\n",
       "      <td>creation_ts 2001-10-10 21:34:00 -0400</td>\n",
       "      <td>2001-10-10</td>\n",
       "    </tr>\n",
       "    <tr>\n",
       "      <th>1</th>\n",
       "      <td>10</td>\n",
       "      <td>,2005-12-15</td>\n",
       "      <td>creation_ts 2001-10-10 21:34:00 -0400</td>\n",
       "      <td>2001-10-10</td>\n",
       "    </tr>\n",
       "    <tr>\n",
       "      <th>2</th>\n",
       "      <td>10001</td>\n",
       "      <td>,2002-09-27</td>\n",
       "      <td>creation_ts 2002-02-19 11:12:00 -0500</td>\n",
       "      <td>2002-02-19</td>\n",
       "    </tr>\n",
       "    <tr>\n",
       "      <th>3</th>\n",
       "      <td>100013</td>\n",
       "      <td>,2005-06-14</td>\n",
       "      <td>creation_ts 2005-06-14 12:51:00 -0400</td>\n",
       "      <td>2005-06-14</td>\n",
       "    </tr>\n",
       "    <tr>\n",
       "      <th>4</th>\n",
       "      <td>100032</td>\n",
       "      <td>,2006-02-02</td>\n",
       "      <td>creation_ts 2005-06-14 14:03:00 -0400</td>\n",
       "      <td>2005-06-14</td>\n",
       "    </tr>\n",
       "    <tr>\n",
       "      <th>...</th>\n",
       "      <td>...</td>\n",
       "      <td>...</td>\n",
       "      <td>...</td>\n",
       "      <td>...</td>\n",
       "    </tr>\n",
       "    <tr>\n",
       "      <th>26119</th>\n",
       "      <td>99948</td>\n",
       "      <td>,2006-01-03</td>\n",
       "      <td>creation_ts 2005-06-14 09:10:00 -0400</td>\n",
       "      <td>2005-06-14</td>\n",
       "    </tr>\n",
       "    <tr>\n",
       "      <th>26120</th>\n",
       "      <td>99978</td>\n",
       "      <td>,2005-06-16</td>\n",
       "      <td>creation_ts 2005-06-14 11:16:00 -0400</td>\n",
       "      <td>2005-06-14</td>\n",
       "    </tr>\n",
       "    <tr>\n",
       "      <th>26121</th>\n",
       "      <td>99982</td>\n",
       "      <td>,2005-07-11</td>\n",
       "      <td>creation_ts 2005-06-14 11:34:00 -0400</td>\n",
       "      <td>2005-06-14</td>\n",
       "    </tr>\n",
       "    <tr>\n",
       "      <th>26122</th>\n",
       "      <td>99984</td>\n",
       "      <td>,2004-02-23,,2005-09-29,,2006-04-03,,2006-04-0...</td>\n",
       "      <td>creation_ts 2005-06-14 11:37:00 -0400</td>\n",
       "      <td>2005-06-14</td>\n",
       "    </tr>\n",
       "    <tr>\n",
       "      <th>26123</th>\n",
       "      <td>99996</td>\n",
       "      <td>,2005-06-10</td>\n",
       "      <td>creation_ts 2005-06-14 12:07:00 -0400</td>\n",
       "      <td>2005-06-14</td>\n",
       "    </tr>\n",
       "  </tbody>\n",
       "</table>\n",
       "<p>26124 rows × 4 columns</p>\n",
       "</div>"
      ],
      "text/plain": [
       "           id                                           dup_date  \\\n",
       "0           1                                        ,2001-10-10   \n",
       "1          10                                        ,2005-12-15   \n",
       "2       10001                                        ,2002-09-27   \n",
       "3      100013                                        ,2005-06-14   \n",
       "4      100032                                        ,2006-02-02   \n",
       "...       ...                                                ...   \n",
       "26119   99948                                        ,2006-01-03   \n",
       "26120   99978                                        ,2005-06-16   \n",
       "26121   99982                                        ,2005-07-11   \n",
       "26122   99984  ,2004-02-23,,2005-09-29,,2006-04-03,,2006-04-0...   \n",
       "26123   99996                                        ,2005-06-10   \n",
       "\n",
       "                                      message master_date  \n",
       "0       creation_ts 2001-10-10 21:34:00 -0400  2001-10-10  \n",
       "1       creation_ts 2001-10-10 21:34:00 -0400  2001-10-10  \n",
       "2       creation_ts 2002-02-19 11:12:00 -0500  2002-02-19  \n",
       "3       creation_ts 2005-06-14 12:51:00 -0400  2005-06-14  \n",
       "4       creation_ts 2005-06-14 14:03:00 -0400  2005-06-14  \n",
       "...                                       ...         ...  \n",
       "26119   creation_ts 2005-06-14 09:10:00 -0400  2005-06-14  \n",
       "26120   creation_ts 2005-06-14 11:16:00 -0400  2005-06-14  \n",
       "26121   creation_ts 2005-06-14 11:34:00 -0400  2005-06-14  \n",
       "26122   creation_ts 2005-06-14 11:37:00 -0400  2005-06-14  \n",
       "26123   creation_ts 2005-06-14 12:07:00 -0400  2005-06-14  \n",
       "\n",
       "[26124 rows x 4 columns]"
      ]
     },
     "execution_count": 95,
     "metadata": {},
     "output_type": "execute_result"
    }
   ],
   "source": [
    "pd.merge(data_deal,data1, on=['id'], how='inner')"
   ]
  },
  {
   "cell_type": "code",
   "execution_count": 96,
   "metadata": {},
   "outputs": [
    {
     "name": "stdout",
     "output_type": "stream",
     "text": [
      "<class 'pandas.core.frame.DataFrame'>\n",
      "           id                                           dup_date  \\\n",
      "0           1                                        ,2001-10-10   \n",
      "1          10                                        ,2005-12-15   \n",
      "2       10001                                        ,2002-09-27   \n",
      "3      100013                                        ,2005-06-14   \n",
      "4      100032                                        ,2006-02-02   \n",
      "...       ...                                                ...   \n",
      "26119   99948                                        ,2006-01-03   \n",
      "26120   99978                                        ,2005-06-16   \n",
      "26121   99982                                        ,2005-07-11   \n",
      "26122   99984  ,2004-02-23,,2005-09-29,,2006-04-03,,2006-04-0...   \n",
      "26123   99996                                        ,2005-06-10   \n",
      "\n",
      "                                      message master_date  \n",
      "0       creation_ts 2001-10-10 21:34:00 -0400  2001-10-10  \n",
      "1       creation_ts 2001-10-10 21:34:00 -0400  2001-10-10  \n",
      "2       creation_ts 2002-02-19 11:12:00 -0500  2002-02-19  \n",
      "3       creation_ts 2005-06-14 12:51:00 -0400  2005-06-14  \n",
      "4       creation_ts 2005-06-14 14:03:00 -0400  2005-06-14  \n",
      "...                                       ...         ...  \n",
      "26119   creation_ts 2005-06-14 09:10:00 -0400  2005-06-14  \n",
      "26120   creation_ts 2005-06-14 11:16:00 -0400  2005-06-14  \n",
      "26121   creation_ts 2005-06-14 11:34:00 -0400  2005-06-14  \n",
      "26122   creation_ts 2005-06-14 11:37:00 -0400  2005-06-14  \n",
      "26123   creation_ts 2005-06-14 12:07:00 -0400  2005-06-14  \n",
      "\n",
      "[26124 rows x 4 columns]\n"
     ]
    }
   ],
   "source": [
    "result1 = pd.merge(data_deal,data1, on=['id'], how='inner')\n",
    "print(type(result))\n",
    "print(result)"
   ]
  },
  {
   "cell_type": "code",
   "execution_count": 102,
   "metadata": {},
   "outputs": [
    {
     "name": "stdout",
     "output_type": "stream",
     "text": [
      "200\n"
     ]
    }
   ],
   "source": [
    "print(result['dup_date'][1][1:4])"
   ]
  },
  {
   "cell_type": "code",
   "execution_count": 97,
   "metadata": {},
   "outputs": [
    {
     "name": "stderr",
     "output_type": "stream",
     "text": [
      "100%|██████████████████████████████████████████████████████████████████████| 361006/361006 [00:02<00:00, 125859.19it/s]\n"
     ]
    },
    {
     "name": "stdout",
     "output_type": "stream",
     "text": [
      "<class 'pandas.core.frame.DataFrame'>\n",
      "            id                                        description\n",
      "0            1  - Setup a project that contains a *.gif resour...\n",
      "1           10  There seems to be a need for a VCM Event notif...\n",
      "2          100  It would be nice to be able to lock the teamst...\n",
      "3        10000  In a class named \"First\", the names for getter...\n",
      "4       100000  Create new TPTP Manual Test in the java projec...\n",
      "...        ...                                                ...\n",
      "361001   99995  I20050610-1757 (3.1RC2)\\n\\npublic class Anon {...\n",
      "361002   99996  Running Eclipse 3.1 RC2\\n\\n1.  Open CVS Reposi...\n",
      "361003   99997  Two files recursively include each other, for ...\n",
      "361004   99998  I get this message the the log file every time...\n",
      "361005   99999  The following code bombs the compiler:\\n\\npubl...\n",
      "\n",
      "[361006 rows x 2 columns]\n"
     ]
    }
   ],
   "source": [
    "a = list()\n",
    "for line in tqdm(lines):\n",
    "    item = ujson.loads(line)\n",
    "  #if len(item['dup_id']) != 0:\n",
    "   # dup_id = 'master_id ' + item['dup_id']\n",
    "   # master.append( int(item['dup_id'])) \n",
    "    #bug_id = ' bug_id ' + item['bug_id']\n",
    "    a.append([item['bug_id'],item['description']])\n",
    "   # creation_ts = 'creation_ts' + item[\"creation_ts\"]\n",
    "a = sorted(a)\n",
    "data1 = DataFrame(a)\n",
    "data1.columns = ['id','description']\n",
    "print(type(data1))\n",
    "print(data1)"
   ]
  },
  {
   "cell_type": "code",
   "execution_count": 98,
   "metadata": {},
   "outputs": [
    {
     "data": {
      "text/html": [
       "<div>\n",
       "<style scoped>\n",
       "    .dataframe tbody tr th:only-of-type {\n",
       "        vertical-align: middle;\n",
       "    }\n",
       "\n",
       "    .dataframe tbody tr th {\n",
       "        vertical-align: top;\n",
       "    }\n",
       "\n",
       "    .dataframe thead th {\n",
       "        text-align: right;\n",
       "    }\n",
       "</style>\n",
       "<table border=\"1\" class=\"dataframe\">\n",
       "  <thead>\n",
       "    <tr style=\"text-align: right;\">\n",
       "      <th></th>\n",
       "      <th>id</th>\n",
       "      <th>dup_date</th>\n",
       "      <th>message</th>\n",
       "      <th>master_date</th>\n",
       "      <th>description</th>\n",
       "    </tr>\n",
       "  </thead>\n",
       "  <tbody>\n",
       "    <tr>\n",
       "      <th>0</th>\n",
       "      <td>1</td>\n",
       "      <td>,2001-10-10</td>\n",
       "      <td>creation_ts 2001-10-10 21:34:00 -0400</td>\n",
       "      <td>2001-10-10</td>\n",
       "      <td>- Setup a project that contains a *.gif resour...</td>\n",
       "    </tr>\n",
       "    <tr>\n",
       "      <th>1</th>\n",
       "      <td>10</td>\n",
       "      <td>,2005-12-15</td>\n",
       "      <td>creation_ts 2001-10-10 21:34:00 -0400</td>\n",
       "      <td>2001-10-10</td>\n",
       "      <td>There seems to be a need for a VCM Event notif...</td>\n",
       "    </tr>\n",
       "    <tr>\n",
       "      <th>2</th>\n",
       "      <td>10001</td>\n",
       "      <td>,2002-09-27</td>\n",
       "      <td>creation_ts 2002-02-19 11:12:00 -0500</td>\n",
       "      <td>2002-02-19</td>\n",
       "      <td>PropertySheetViewer.updateEntry() has a specif...</td>\n",
       "    </tr>\n",
       "    <tr>\n",
       "      <th>3</th>\n",
       "      <td>100013</td>\n",
       "      <td>,2005-06-14</td>\n",
       "      <td>creation_ts 2005-06-14 12:51:00 -0400</td>\n",
       "      <td>2005-06-14</td>\n",
       "      <td>1.  Add a new server runtime for any server (I...</td>\n",
       "    </tr>\n",
       "    <tr>\n",
       "      <th>4</th>\n",
       "      <td>100032</td>\n",
       "      <td>,2006-02-02</td>\n",
       "      <td>creation_ts 2005-06-14 14:03:00 -0400</td>\n",
       "      <td>2005-06-14</td>\n",
       "      <td>3.1 RC2 (it has always been like that)\\n\\nWhen...</td>\n",
       "    </tr>\n",
       "    <tr>\n",
       "      <th>...</th>\n",
       "      <td>...</td>\n",
       "      <td>...</td>\n",
       "      <td>...</td>\n",
       "      <td>...</td>\n",
       "      <td>...</td>\n",
       "    </tr>\n",
       "    <tr>\n",
       "      <th>26119</th>\n",
       "      <td>99948</td>\n",
       "      <td>,2006-01-03</td>\n",
       "      <td>creation_ts 2005-06-14 09:10:00 -0400</td>\n",
       "      <td>2005-06-14</td>\n",
       "      <td>3.1 RC3\\n\\n'Build Path' &gt; 'Use as Source Folde...</td>\n",
       "    </tr>\n",
       "    <tr>\n",
       "      <th>26120</th>\n",
       "      <td>99978</td>\n",
       "      <td>,2005-06-16</td>\n",
       "      <td>creation_ts 2005-06-14 11:16:00 -0400</td>\n",
       "      <td>2005-06-14</td>\n",
       "      <td>In RC2.  Take SayTests.java (attached).  Selec...</td>\n",
       "    </tr>\n",
       "    <tr>\n",
       "      <th>26121</th>\n",
       "      <td>99982</td>\n",
       "      <td>,2005-07-11</td>\n",
       "      <td>creation_ts 2005-06-14 11:34:00 -0400</td>\n",
       "      <td>2005-06-14</td>\n",
       "      <td>Using RC2 + JDT/Core HEAD, I found two cases w...</td>\n",
       "    </tr>\n",
       "    <tr>\n",
       "      <th>26122</th>\n",
       "      <td>99984</td>\n",
       "      <td>,2004-02-23,,2005-09-29,,2006-04-03,,2006-04-0...</td>\n",
       "      <td>creation_ts 2005-06-14 11:37:00 -0400</td>\n",
       "      <td>2005-06-14</td>\n",
       "      <td>I started using the SWT manifest so I could ta...</td>\n",
       "    </tr>\n",
       "    <tr>\n",
       "      <th>26123</th>\n",
       "      <td>99996</td>\n",
       "      <td>,2005-06-10</td>\n",
       "      <td>creation_ts 2005-06-14 12:07:00 -0400</td>\n",
       "      <td>2005-06-14</td>\n",
       "      <td>Running Eclipse 3.1 RC2\\n\\n1.  Open CVS Reposi...</td>\n",
       "    </tr>\n",
       "  </tbody>\n",
       "</table>\n",
       "<p>26124 rows × 5 columns</p>\n",
       "</div>"
      ],
      "text/plain": [
       "           id                                           dup_date  \\\n",
       "0           1                                        ,2001-10-10   \n",
       "1          10                                        ,2005-12-15   \n",
       "2       10001                                        ,2002-09-27   \n",
       "3      100013                                        ,2005-06-14   \n",
       "4      100032                                        ,2006-02-02   \n",
       "...       ...                                                ...   \n",
       "26119   99948                                        ,2006-01-03   \n",
       "26120   99978                                        ,2005-06-16   \n",
       "26121   99982                                        ,2005-07-11   \n",
       "26122   99984  ,2004-02-23,,2005-09-29,,2006-04-03,,2006-04-0...   \n",
       "26123   99996                                        ,2005-06-10   \n",
       "\n",
       "                                      message master_date  \\\n",
       "0       creation_ts 2001-10-10 21:34:00 -0400  2001-10-10   \n",
       "1       creation_ts 2001-10-10 21:34:00 -0400  2001-10-10   \n",
       "2       creation_ts 2002-02-19 11:12:00 -0500  2002-02-19   \n",
       "3       creation_ts 2005-06-14 12:51:00 -0400  2005-06-14   \n",
       "4       creation_ts 2005-06-14 14:03:00 -0400  2005-06-14   \n",
       "...                                       ...         ...   \n",
       "26119   creation_ts 2005-06-14 09:10:00 -0400  2005-06-14   \n",
       "26120   creation_ts 2005-06-14 11:16:00 -0400  2005-06-14   \n",
       "26121   creation_ts 2005-06-14 11:34:00 -0400  2005-06-14   \n",
       "26122   creation_ts 2005-06-14 11:37:00 -0400  2005-06-14   \n",
       "26123   creation_ts 2005-06-14 12:07:00 -0400  2005-06-14   \n",
       "\n",
       "                                             description  \n",
       "0      - Setup a project that contains a *.gif resour...  \n",
       "1      There seems to be a need for a VCM Event notif...  \n",
       "2      PropertySheetViewer.updateEntry() has a specif...  \n",
       "3      1.  Add a new server runtime for any server (I...  \n",
       "4      3.1 RC2 (it has always been like that)\\n\\nWhen...  \n",
       "...                                                  ...  \n",
       "26119  3.1 RC3\\n\\n'Build Path' > 'Use as Source Folde...  \n",
       "26120  In RC2.  Take SayTests.java (attached).  Selec...  \n",
       "26121  Using RC2 + JDT/Core HEAD, I found two cases w...  \n",
       "26122  I started using the SWT manifest so I could ta...  \n",
       "26123  Running Eclipse 3.1 RC2\\n\\n1.  Open CVS Reposi...  \n",
       "\n",
       "[26124 rows x 5 columns]"
      ]
     },
     "execution_count": 98,
     "metadata": {},
     "output_type": "execute_result"
    }
   ],
   "source": [
    "pd.merge(result1,data1, on=['id'], how='inner')"
   ]
  },
  {
   "cell_type": "code",
   "execution_count": 99,
   "metadata": {},
   "outputs": [],
   "source": [
    "result2 = pd.merge(result1,data1, on=['id'], how='inner')"
   ]
  },
  {
   "cell_type": "code",
   "execution_count": 103,
   "metadata": {},
   "outputs": [],
   "source": [
    "import datetime\n",
    "def days(str1,str2):\n",
    "    date1=datetime.datetime.strptime(str1[0:10],\"%Y-%m-%d\")\n",
    "    date2=datetime.datetime.strptime(str2[0:10],\"%Y-%m-%d\")\n",
    "    num=(date1-date2).days\n",
    "    return num\n",
    "def months(str1,str2):\n",
    "    year1=datetime.datetime.strptime(str1[0:10],\"%Y-%m-%d\").year\n",
    "    year2=datetime.datetime.strptime(str2[0:10],\"%Y-%m-%d\").year\n",
    "    month1=datetime.datetime.strptime(str1[0:10],\"%Y-%m-%d\").month\n",
    "    month2=datetime.datetime.strptime(str2[0:10],\"%Y-%m-%d\").month\n",
    "    num=(year1-year2)*12+(month1-month2)\n",
    "    return num\n",
    "#算时间间隔的函数"
   ]
  },
  {
   "cell_type": "code",
   "execution_count": 113,
   "metadata": {},
   "outputs": [],
   "source": [
    "Days_gap = []#计算相差的天数\n",
    "Months_gap = []#计算相差的月数\n",
    "for i in range(26124):   #26124为行数\n",
    "    Days_gap.append(days(result2['dup_date'][i][1:11],result2['master_date'][i]))\n",
    "    Months_gap.append(months(result2['dup_date'][i][1:11],result2['master_date'][i]))"
   ]
  },
  {
   "cell_type": "code",
   "execution_count": 117,
   "metadata": {},
   "outputs": [
    {
     "name": "stdout",
     "output_type": "stream",
     "text": [
      "           id                                           dup_date  \\\n",
      "0           1                                        ,2001-10-10   \n",
      "1          10                                        ,2005-12-15   \n",
      "2       10001                                        ,2002-09-27   \n",
      "3      100013                                        ,2005-06-14   \n",
      "4      100032                                        ,2006-02-02   \n",
      "...       ...                                                ...   \n",
      "26119   99948                                        ,2006-01-03   \n",
      "26120   99978                                        ,2005-06-16   \n",
      "26121   99982                                        ,2005-07-11   \n",
      "26122   99984  ,2004-02-23,,2005-09-29,,2006-04-03,,2006-04-0...   \n",
      "26123   99996                                        ,2005-06-10   \n",
      "\n",
      "                                      message master_date  \\\n",
      "0       creation_ts 2001-10-10 21:34:00 -0400  2001-10-10   \n",
      "1       creation_ts 2001-10-10 21:34:00 -0400  2001-10-10   \n",
      "2       creation_ts 2002-02-19 11:12:00 -0500  2002-02-19   \n",
      "3       creation_ts 2005-06-14 12:51:00 -0400  2005-06-14   \n",
      "4       creation_ts 2005-06-14 14:03:00 -0400  2005-06-14   \n",
      "...                                       ...         ...   \n",
      "26119   creation_ts 2005-06-14 09:10:00 -0400  2005-06-14   \n",
      "26120   creation_ts 2005-06-14 11:16:00 -0400  2005-06-14   \n",
      "26121   creation_ts 2005-06-14 11:34:00 -0400  2005-06-14   \n",
      "26122   creation_ts 2005-06-14 11:37:00 -0400  2005-06-14   \n",
      "26123   creation_ts 2005-06-14 12:07:00 -0400  2005-06-14   \n",
      "\n",
      "                                             description  Days_gap  Months_gap  \n",
      "0      - Setup a project that contains a *.gif resour...         0           0  \n",
      "1      There seems to be a need for a VCM Event notif...      1527          50  \n",
      "2      PropertySheetViewer.updateEntry() has a specif...       220           7  \n",
      "3      1.  Add a new server runtime for any server (I...         0           0  \n",
      "4      3.1 RC2 (it has always been like that)\\n\\nWhen...       233           8  \n",
      "...                                                  ...       ...         ...  \n",
      "26119  3.1 RC3\\n\\n'Build Path' > 'Use as Source Folde...       203           7  \n",
      "26120  In RC2.  Take SayTests.java (attached).  Selec...         2           0  \n",
      "26121  Using RC2 + JDT/Core HEAD, I found two cases w...        27           1  \n",
      "26122  I started using the SWT manifest so I could ta...      -477         -16  \n",
      "26123  Running Eclipse 3.1 RC2\\n\\n1.  Open CVS Reposi...        -4           0  \n",
      "\n",
      "[26124 rows x 7 columns]\n"
     ]
    }
   ],
   "source": [
    "result2.insert(loc=5, column='Days_gap', value=Days_gap)\n",
    "result2.insert(loc=6, column='Months_gap', value=Months_gap)\n",
    "print(result2)"
   ]
  },
  {
   "cell_type": "code",
   "execution_count": 118,
   "metadata": {},
   "outputs": [],
   "source": [
    "result2.to_csv(\"list_new.csv\")"
   ]
  }
 ],
 "metadata": {
  "kernelspec": {
   "display_name": "Python [conda env:python3_7]",
   "language": "python",
   "name": "conda-env-python3_7-py"
  },
  "language_info": {
   "codemirror_mode": {
    "name": "ipython",
    "version": 3
   },
   "file_extension": ".py",
   "mimetype": "text/x-python",
   "name": "python",
   "nbconvert_exporter": "python",
   "pygments_lexer": "ipython3",
   "version": "3.7.15"
  }
 },
 "nbformat": 4,
 "nbformat_minor": 2
}
